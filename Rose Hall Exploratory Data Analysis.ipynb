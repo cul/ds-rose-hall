{
 "cells": [
  {
   "cell_type": "code",
   "execution_count": 1,
   "metadata": {},
   "outputs": [],
   "source": [
    "import pandas as pd"
   ]
  },
  {
   "cell_type": "code",
   "execution_count": 2,
   "metadata": {},
   "outputs": [],
   "source": [
    "df = pd.read_csv(\"rose-hall-people.csv\")"
   ]
  },
  {
   "cell_type": "code",
   "execution_count": 3,
   "metadata": {},
   "outputs": [
    {
     "data": {
      "text/html": [
       "<div>\n",
       "<style scoped>\n",
       "    .dataframe tbody tr th:only-of-type {\n",
       "        vertical-align: middle;\n",
       "    }\n",
       "\n",
       "    .dataframe tbody tr th {\n",
       "        vertical-align: top;\n",
       "    }\n",
       "\n",
       "    .dataframe thead th {\n",
       "        text-align: right;\n",
       "    }\n",
       "</style>\n",
       "<table border=\"1\" class=\"dataframe\">\n",
       "  <thead>\n",
       "    <tr style=\"text-align: right;\">\n",
       "      <th></th>\n",
       "      <th>id</th>\n",
       "      <th>name</th>\n",
       "      <th>slug</th>\n",
       "      <th>origin</th>\n",
       "      <th>gender</th>\n",
       "      <th>role</th>\n",
       "      <th>color</th>\n",
       "      <th>description</th>\n",
       "      <th>maxAge</th>\n",
       "      <th>birthYear</th>\n",
       "      <th>exitYear</th>\n",
       "      <th>exitType</th>\n",
       "      <th>ageIn1817</th>\n",
       "      <th>ageIn1820</th>\n",
       "      <th>ageIn1823</th>\n",
       "      <th>ageIn1826</th>\n",
       "      <th>ageIn1829</th>\n",
       "      <th>ageIn1832</th>\n",
       "    </tr>\n",
       "  </thead>\n",
       "  <tbody>\n",
       "    <tr>\n",
       "      <th>0</th>\n",
       "      <td>P1</td>\n",
       "      <td>Aaron</td>\n",
       "      <td>aaron-p1</td>\n",
       "      <td>African</td>\n",
       "      <td>Male</td>\n",
       "      <td>Head Penkeeper</td>\n",
       "      <td>Negro</td>\n",
       "      <td>Able and Healthy</td>\n",
       "      <td>45.0</td>\n",
       "      <td>1787.0</td>\n",
       "      <td>1832</td>\n",
       "      <td>NaN</td>\n",
       "      <td>30</td>\n",
       "      <td>NaN</td>\n",
       "      <td>NaN</td>\n",
       "      <td>NaN</td>\n",
       "      <td>NaN</td>\n",
       "      <td>NaN</td>\n",
       "    </tr>\n",
       "    <tr>\n",
       "      <th>1</th>\n",
       "      <td>P2</td>\n",
       "      <td>Adam</td>\n",
       "      <td>adam-p2</td>\n",
       "      <td>Creole</td>\n",
       "      <td>Male</td>\n",
       "      <td>Cattleboy</td>\n",
       "      <td>Negro</td>\n",
       "      <td>Able and Healthy</td>\n",
       "      <td>7.0</td>\n",
       "      <td>1825.0</td>\n",
       "      <td>1832</td>\n",
       "      <td>NaN</td>\n",
       "      <td>--</td>\n",
       "      <td>--</td>\n",
       "      <td>--</td>\n",
       "      <td>1</td>\n",
       "      <td>NaN</td>\n",
       "      <td>NaN</td>\n",
       "    </tr>\n",
       "    <tr>\n",
       "      <th>2</th>\n",
       "      <td>P3</td>\n",
       "      <td>Adonis</td>\n",
       "      <td>adonis-p3</td>\n",
       "      <td>Creole</td>\n",
       "      <td>Male</td>\n",
       "      <td>Head Cooper</td>\n",
       "      <td>Negro</td>\n",
       "      <td>Yaws</td>\n",
       "      <td>40.0</td>\n",
       "      <td>1792.0</td>\n",
       "      <td>1832</td>\n",
       "      <td>NaN</td>\n",
       "      <td>25</td>\n",
       "      <td>NaN</td>\n",
       "      <td>NaN</td>\n",
       "      <td>NaN</td>\n",
       "      <td>NaN</td>\n",
       "      <td>NaN</td>\n",
       "    </tr>\n",
       "    <tr>\n",
       "      <th>3</th>\n",
       "      <td>P4</td>\n",
       "      <td>Allick</td>\n",
       "      <td>allick-p4</td>\n",
       "      <td>Creole</td>\n",
       "      <td>Male</td>\n",
       "      <td>NaN</td>\n",
       "      <td>Negro</td>\n",
       "      <td>NaN</td>\n",
       "      <td>1.0</td>\n",
       "      <td>1822.0</td>\n",
       "      <td>1823</td>\n",
       "      <td>Dead</td>\n",
       "      <td>--</td>\n",
       "      <td>--</td>\n",
       "      <td>1-Dead</td>\n",
       "      <td>NaN</td>\n",
       "      <td>NaN</td>\n",
       "      <td>NaN</td>\n",
       "    </tr>\n",
       "    <tr>\n",
       "      <th>4</th>\n",
       "      <td>P5</td>\n",
       "      <td>Allick</td>\n",
       "      <td>allick-p5</td>\n",
       "      <td>Creole</td>\n",
       "      <td>Male</td>\n",
       "      <td>NaN</td>\n",
       "      <td>Negro</td>\n",
       "      <td>NaN</td>\n",
       "      <td>3.0</td>\n",
       "      <td>1829.0</td>\n",
       "      <td>1832</td>\n",
       "      <td>Dead</td>\n",
       "      <td>NaN</td>\n",
       "      <td>NaN</td>\n",
       "      <td>NaN</td>\n",
       "      <td>NaN</td>\n",
       "      <td>3 mths</td>\n",
       "      <td>3-Dead</td>\n",
       "    </tr>\n",
       "  </tbody>\n",
       "</table>\n",
       "</div>"
      ],
      "text/plain": [
       "   id    name       slug   origin gender            role  color  \\\n",
       "0  P1   Aaron   aaron-p1  African   Male  Head Penkeeper  Negro   \n",
       "1  P2    Adam    adam-p2   Creole   Male       Cattleboy  Negro   \n",
       "2  P3  Adonis  adonis-p3   Creole   Male     Head Cooper  Negro   \n",
       "3  P4  Allick  allick-p4   Creole   Male             NaN  Negro   \n",
       "4  P5  Allick  allick-p5   Creole   Male             NaN  Negro   \n",
       "\n",
       "        description  maxAge  birthYear  exitYear exitType ageIn1817 ageIn1820  \\\n",
       "0  Able and Healthy    45.0     1787.0      1832      NaN        30       NaN   \n",
       "1  Able and Healthy     7.0     1825.0      1832      NaN        --        --   \n",
       "2              Yaws    40.0     1792.0      1832      NaN        25       NaN   \n",
       "3               NaN     1.0     1822.0      1823     Dead        --        --   \n",
       "4               NaN     3.0     1829.0      1832     Dead       NaN       NaN   \n",
       "\n",
       "  ageIn1823 ageIn1826 ageIn1829 ageIn1832  \n",
       "0       NaN       NaN       NaN       NaN  \n",
       "1        --         1       NaN       NaN  \n",
       "2       NaN       NaN       NaN       NaN  \n",
       "3    1-Dead       NaN       NaN       NaN  \n",
       "4       NaN       NaN    3 mths    3-Dead  "
      ]
     },
     "execution_count": 3,
     "metadata": {},
     "output_type": "execute_result"
    }
   ],
   "source": [
    "df.head()"
   ]
  },
  {
   "cell_type": "code",
   "execution_count": 18,
   "metadata": {},
   "outputs": [
    {
     "data": {
      "text/plain": [
       "Creole             0.721154\n",
       "African            0.250000\n",
       "not_specified      0.019231\n",
       "Creole/African?    0.009615\n",
       "Name: origin, dtype: float64"
      ]
     },
     "execution_count": 18,
     "metadata": {},
     "output_type": "execute_result"
    }
   ],
   "source": [
    "df.origin.value_counts(normalize=True)"
   ]
  },
  {
   "cell_type": "code",
   "execution_count": 24,
   "metadata": {},
   "outputs": [
    {
     "name": "stdout",
     "output_type": "stream",
     "text": [
      "0       True\n",
      "1      False\n",
      "2      False\n",
      "3      False\n",
      "4      False\n",
      "       ...  \n",
      "203    False\n",
      "204    False\n",
      "205    False\n",
      "206    False\n",
      "207    False\n",
      "Name: origin, Length: 208, dtype: bool\n"
     ]
    }
   ],
   "source": [
    "\n"
   ]
  },
  {
   "cell_type": "code",
   "execution_count": 21,
   "metadata": {},
   "outputs": [
    {
     "data": {
      "text/plain": [
       "Field                             28\n",
       "Hogmeat Gang                      10\n",
       "Not at Work                        9\n",
       "Cattleboy                          6\n",
       "Cooper                             4\n",
       "Overseer's House                   4\n",
       "Watchman                           3\n",
       "Cartman                            2\n",
       "Muleman                            2\n",
       "Grasscutter                        2\n",
       "With Mrs. Palmer                   2\n",
       "Attending Small Stock              2\n",
       "Washerwoman                        2\n",
       "Head Carpenter                     1\n",
       "Head Cartman                       1\n",
       "G.H. Attendant                     1\n",
       "Hospital Attendant and Midwife     1\n",
       "Field and Grasscutter              1\n",
       "Blacksmith                         1\n",
       "Head Boiler                        1\n",
       "Hospital                           1\n",
       "Domestic                           1\n",
       "Field                              1\n",
       "Carpenter                          1\n",
       "Cartman and Field                  1\n",
       "Head Driver                        1\n",
       "Distiller and Field                1\n",
       "Second Driver                      1\n",
       "Fisherman                          1\n",
       "Head Cooper                        1\n",
       "Name: role, dtype: int64"
      ]
     },
     "execution_count": 21,
     "metadata": {},
     "output_type": "execute_result"
    }
   ],
   "source": [
    "df[df.origin == \"Creole\"].role.value_counts()\n"
   ]
  },
  {
   "cell_type": "code",
   "execution_count": null,
   "metadata": {},
   "outputs": [],
   "source": []
  }
 ],
 "metadata": {
  "kernelspec": {
   "display_name": "Python 3",
   "language": "python",
   "name": "python3"
  },
  "language_info": {
   "codemirror_mode": {
    "name": "ipython",
    "version": 3
   },
   "file_extension": ".py",
   "mimetype": "text/x-python",
   "name": "python",
   "nbconvert_exporter": "python",
   "pygments_lexer": "ipython3",
   "version": "3.9.0"
  }
 },
 "nbformat": 4,
 "nbformat_minor": 4
}
